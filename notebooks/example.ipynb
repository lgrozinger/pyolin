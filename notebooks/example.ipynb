{
 "cells": [
  {
   "cell_type": "code",
   "execution_count": 1,
   "metadata": {},
   "outputs": [],
   "source": [
    "import os\n",
    "import sys\n",
    "import pandas\n",
    "import matplotlib.pyplot as plt\n",
    "\n",
    "pkg_path = os.path.abspath('..')\n",
    "sys.path.insert(0, pkg_path)\n",
    "\n",
    "import pyolin\n",
    "from pyolin.dataframe import GateData\n",
    "from pyolin.analysis import similarity_heatmap\n",
    "from pyolin.analysis import score_heatmap\n",
    "from pyolin.analysis import compatibility_heatmap\n",
    "from pyolin.analysis import filter_valid\n",
    "from pyolin.analysis import score_table\n",
    "from pyolin.analysis import similarity_table\n",
    "from pyolin.analysis import compatibility_table\n",
    "from pyolin.analysis import all_paths"
   ]
  },
  {
   "cell_type": "markdown",
   "metadata": {},
   "source": [
    "## Creating Gates from DataFrames\n",
    "\n",
    "Gate objects can be created from a pandas DataFrame, as long as the expected columns are present. For example inspect the DataFrame used for the study by running the next cell."
   ]
  },
  {
   "cell_type": "code",
   "execution_count": 2,
   "metadata": {},
   "outputs": [
    {
     "data": {
      "text/html": [
       "<div>\n",
       "<style scoped>\n",
       "    .dataframe tbody tr th:only-of-type {\n",
       "        vertical-align: middle;\n",
       "    }\n",
       "\n",
       "    .dataframe tbody tr th {\n",
       "        vertical-align: top;\n",
       "    }\n",
       "\n",
       "    .dataframe thead th {\n",
       "        text-align: right;\n",
       "    }\n",
       "</style>\n",
       "<table border=\"1\" class=\"dataframe\">\n",
       "  <thead>\n",
       "    <tr style=\"text-align: right;\">\n",
       "      <th></th>\n",
       "      <th>Unnamed: 0</th>\n",
       "      <th>strain</th>\n",
       "      <th>plasmid</th>\n",
       "      <th>backbone</th>\n",
       "      <th>iptg</th>\n",
       "      <th>rrpu</th>\n",
       "    </tr>\n",
       "  </thead>\n",
       "  <tbody>\n",
       "    <tr>\n",
       "      <th>0</th>\n",
       "      <td>0</td>\n",
       "      <td>KT2440</td>\n",
       "      <td>1201</td>\n",
       "      <td>pSeva221</td>\n",
       "      <td>1</td>\n",
       "      <td>0.026556</td>\n",
       "    </tr>\n",
       "    <tr>\n",
       "      <th>1</th>\n",
       "      <td>1</td>\n",
       "      <td>KT2440</td>\n",
       "      <td>1201</td>\n",
       "      <td>pSeva221</td>\n",
       "      <td>5</td>\n",
       "      <td>0.004734</td>\n",
       "    </tr>\n",
       "    <tr>\n",
       "      <th>2</th>\n",
       "      <td>2</td>\n",
       "      <td>KT2440</td>\n",
       "      <td>1201</td>\n",
       "      <td>pSeva221</td>\n",
       "      <td>10</td>\n",
       "      <td>0.006434</td>\n",
       "    </tr>\n",
       "    <tr>\n",
       "      <th>3</th>\n",
       "      <td>3</td>\n",
       "      <td>KT2440</td>\n",
       "      <td>1201</td>\n",
       "      <td>pSeva221</td>\n",
       "      <td>20</td>\n",
       "      <td>0.016593</td>\n",
       "    </tr>\n",
       "    <tr>\n",
       "      <th>4</th>\n",
       "      <td>4</td>\n",
       "      <td>KT2440</td>\n",
       "      <td>1201</td>\n",
       "      <td>pSeva221</td>\n",
       "      <td>30</td>\n",
       "      <td>0.000000</td>\n",
       "    </tr>\n",
       "    <tr>\n",
       "      <th>...</th>\n",
       "      <td>...</td>\n",
       "      <td>...</td>\n",
       "      <td>...</td>\n",
       "      <td>...</td>\n",
       "      <td>...</td>\n",
       "      <td>...</td>\n",
       "    </tr>\n",
       "    <tr>\n",
       "      <th>1881</th>\n",
       "      <td>1881</td>\n",
       "      <td>KT2440</td>\n",
       "      <td>Srpr_s4</td>\n",
       "      <td>pSeva251</td>\n",
       "      <td>100</td>\n",
       "      <td>0.220476</td>\n",
       "    </tr>\n",
       "    <tr>\n",
       "      <th>1882</th>\n",
       "      <td>1882</td>\n",
       "      <td>KT2440</td>\n",
       "      <td>Srpr_s4</td>\n",
       "      <td>pSeva251</td>\n",
       "      <td>200</td>\n",
       "      <td>0.192586</td>\n",
       "    </tr>\n",
       "    <tr>\n",
       "      <th>1883</th>\n",
       "      <td>1883</td>\n",
       "      <td>KT2440</td>\n",
       "      <td>Srpr_s4</td>\n",
       "      <td>pSeva251</td>\n",
       "      <td>500</td>\n",
       "      <td>0.154987</td>\n",
       "    </tr>\n",
       "    <tr>\n",
       "      <th>1884</th>\n",
       "      <td>1884</td>\n",
       "      <td>KT2440</td>\n",
       "      <td>Srpr_s4</td>\n",
       "      <td>pSeva251</td>\n",
       "      <td>1000</td>\n",
       "      <td>0.113096</td>\n",
       "    </tr>\n",
       "    <tr>\n",
       "      <th>1885</th>\n",
       "      <td>1885</td>\n",
       "      <td>KT2440</td>\n",
       "      <td>Srpr_s4</td>\n",
       "      <td>pSeva251</td>\n",
       "      <td>2000</td>\n",
       "      <td>0.048345</td>\n",
       "    </tr>\n",
       "  </tbody>\n",
       "</table>\n",
       "<p>1886 rows × 6 columns</p>\n",
       "</div>"
      ],
      "text/plain": [
       "      Unnamed: 0  strain  plasmid  backbone  iptg      rrpu\n",
       "0              0  KT2440     1201  pSeva221     1  0.026556\n",
       "1              1  KT2440     1201  pSeva221     5  0.004734\n",
       "2              2  KT2440     1201  pSeva221    10  0.006434\n",
       "3              3  KT2440     1201  pSeva221    20  0.016593\n",
       "4              4  KT2440     1201  pSeva221    30  0.000000\n",
       "...          ...     ...      ...       ...   ...       ...\n",
       "1881        1881  KT2440  Srpr_s4  pSeva251   100  0.220476\n",
       "1882        1882  KT2440  Srpr_s4  pSeva251   200  0.192586\n",
       "1883        1883  KT2440  Srpr_s4  pSeva251   500  0.154987\n",
       "1884        1884  KT2440  Srpr_s4  pSeva251  1000  0.113096\n",
       "1885        1885  KT2440  Srpr_s4  pSeva251  2000  0.048345\n",
       "\n",
       "[1886 rows x 6 columns]"
      ]
     },
     "execution_count": 2,
     "metadata": {},
     "output_type": "execute_result"
    }
   ],
   "source": [
    "dataframe = pandas.read_csv(\"../dataset.csv\")\n",
    "dataframe"
   ]
  },
  {
   "cell_type": "markdown",
   "metadata": {},
   "source": [
    "The strain, plasmid, backbone, iptg and rrpu columns are important. The iptg and rrpu columns are the input and output values of the gate characterisation, though these column names are customisable (see the code for the GateData constructor). \n",
    "\n",
    "It is also required that data for the input, autoflouresence and standardisation plasmids are present. For these, the plasmid column should contain 1818, 1201 and 1717 respectively.\n",
    "\n",
    "The Gate are actually created using the following line."
   ]
  },
  {
   "cell_type": "code",
   "execution_count": 3,
   "metadata": {},
   "outputs": [],
   "source": [
    "gates = GateData(dataframe)"
   ]
  },
  {
   "cell_type": "markdown",
   "metadata": {},
   "source": [
    "## Creating Gates from CSV\n",
    "\n",
    "For convenience, a function is also provided for creating Gate objects from a .csv file."
   ]
  },
  {
   "cell_type": "code",
   "execution_count": 4,
   "metadata": {},
   "outputs": [],
   "source": [
    "gates = GateData.from_csv('../dataset.csv')"
   ]
  },
  {
   "cell_type": "markdown",
   "metadata": {},
   "source": [
    "## Selecting Gates\n",
    "\n",
    "Individual gates can be selected by specifying a strain, backbone or plasmid as follows"
   ]
  },
  {
   "cell_type": "code",
   "execution_count": 5,
   "metadata": {},
   "outputs": [
    {
     "data": {
      "text/plain": [
       "DH5alpha_pAN_Amer_f1"
      ]
     },
     "execution_count": 5,
     "metadata": {},
     "output_type": "execute_result"
    }
   ],
   "source": [
    "mygate = gates['DH5alpha':'pAN':'Amer_f1']\n",
    "mygate"
   ]
  },
  {
   "cell_type": "markdown",
   "metadata": {},
   "source": [
    "Groups of gates can be selected by omitting one or more of the parameters as follows"
   ]
  },
  {
   "cell_type": "code",
   "execution_count": 6,
   "metadata": {},
   "outputs": [
    {
     "name": "stdout",
     "output_type": "stream",
     "text": [
      "[CC118Lpir_pSeva221_Amer_f1, CC118Lpir_pSeva231_Amer_f1, DH5alpha_pAN_Amer_f1, DH5alpha_pSeva221_Amer_f1, KT2440_pSeva221_Amer_f1, KT2440_pSeva231_Amer_f1, KT2440_pSeva251_Amer_f1]\n"
     ]
    }
   ],
   "source": [
    "all_amer = gates[::'Amer_f1']\n",
    "print(all_amer)"
   ]
  },
  {
   "cell_type": "code",
   "execution_count": 7,
   "metadata": {},
   "outputs": [
    {
     "name": "stdout",
     "output_type": "stream",
     "text": [
      "[DH5alpha_pAN_Amer_f1, DH5alpha_pAN_Amtr_a1, DH5alpha_pAN_Beti_e1, DH5alpha_pAN_Bm3r1_b1, DH5alpha_pAN_Bm3r1_b2, DH5alpha_pAN_Bm3r1_b3, DH5alpha_pAN_Hiyiir_h1, DH5alpha_pAN_Lcara_i1, DH5alpha_pAN_Litr_l1, DH5alpha_pAN_Lmra_n1, DH5alpha_pAN_Phif_p1, DH5alpha_pAN_Phif_p2, DH5alpha_pAN_Phif_p3, DH5alpha_pAN_Psra_r1, DH5alpha_pAN_Qacr_q1, DH5alpha_pAN_Qacr_q2, DH5alpha_pAN_Srpr_s1, DH5alpha_pAN_Srpr_s2, DH5alpha_pAN_Srpr_s3, DH5alpha_pAN_Srpr_s4]\n"
     ]
    }
   ],
   "source": [
    "all_DH5_pAN = gates['DH5alpha':'pAN':]\n",
    "print(all_DH5_pAN)"
   ]
  },
  {
   "cell_type": "markdown",
   "metadata": {},
   "source": [
    "## Inspecting Gates\n",
    "\n",
    "Gates have many interesting properties. Look at pyolin/gate.py for the complete list. Here are a few examples."
   ]
  },
  {
   "cell_type": "markdown",
   "metadata": {},
   "source": [
    "### Plotting"
   ]
  },
  {
   "cell_type": "code",
   "execution_count": 8,
   "metadata": {},
   "outputs": [
    {
     "data": {
      "image/png": "[encoded data removed]",
      "text/plain": [
       "<Figure size 432x288 with 1 Axes>"
      ]
     },
     "metadata": {
      "needs_background": "light"
     },
     "output_type": "display_data"
    }
   ],
   "source": [
    "mygate.plot();"
   ]
  },
  {
   "cell_type": "code",
   "execution_count": 9,
   "metadata": {},
   "outputs": [
    {
     "data": {
      "image/png": "[encoded data removed]",
      "text/plain": [
       "<Figure size 432x288 with 1 Axes>"
      ]
     },
     "metadata": {
      "needs_background": "light"
     },
     "output_type": "display_data"
    }
   ],
   "source": [
    "mygate.rpuplot();"
   ]
  },
  {
   "cell_type": "markdown",
   "metadata": {},
   "source": [
    "### Fitting\n",
    "\n",
    "The fitted hill function parameters are automatically computed when requested."
   ]
  },
  {
   "cell_type": "code",
   "execution_count": 10,
   "metadata": {},
   "outputs": [
    {
     "data": {
      "text/plain": [
       "{'ymin': 1.1866559877375211,\n",
       " 'ymax': 8.025482380223915,\n",
       " 'K': 0.7585289492995914,\n",
       " 'n': 2.8269478226205083}"
      ]
     },
     "execution_count": 10,
     "metadata": {},
     "output_type": "execute_result"
    }
   ],
   "source": [
    "mygate.params"
   ]
  },
  {
   "cell_type": "markdown",
   "metadata": {},
   "source": [
    "or individually"
   ]
  },
  {
   "cell_type": "code",
   "execution_count": 11,
   "metadata": {},
   "outputs": [
    {
     "data": {
      "text/plain": [
       "2.8269478226205083"
      ]
     },
     "execution_count": 11,
     "metadata": {},
     "output_type": "execute_result"
    }
   ],
   "source": [
    "mygate.n"
   ]
  },
  {
   "cell_type": "markdown",
   "metadata": {},
   "source": [
    "The hill function itself is also available, to do whatever you want with"
   ]
  },
  {
   "cell_type": "code",
   "execution_count": 18,
   "metadata": {},
   "outputs": [
    {
     "name": "stdout",
     "output_type": "stream",
     "text": [
      "4.606069183980718\n"
     ]
    },
    {
     "data": {
      "text/plain": [
       "4.606069183980718"
      ]
     },
     "execution_count": 18,
     "metadata": {},
     "output_type": "execute_result"
    }
   ],
   "source": [
    "half_expression = mygate.ymin + (mygate.ymax - mygate.ymin) / 2\n",
    "print(half_expression)\n",
    "\n",
    "mygate.hill_function(mygate.K)"
   ]
  },
  {
   "cell_type": "markdown",
   "metadata": {},
   "source": [
    "Or simply"
   ]
  },
  {
   "cell_type": "code",
   "execution_count": 24,
   "metadata": {},
   "outputs": [
    {
     "data": {
      "text/plain": [
       "4.660717767255013"
      ]
     },
     "execution_count": 24,
     "metadata": {},
     "output_type": "execute_result"
    }
   ],
   "source": [
    "mygate(0.75)"
   ]
  },
  {
   "cell_type": "markdown",
   "metadata": {},
   "source": [
    "### Compatibility"
   ]
  },
  {
   "cell_type": "code",
   "execution_count": 39,
   "metadata": {
    "scrolled": true
   },
   "outputs": [
    {
     "data": {
      "text/plain": [
       "False"
      ]
     },
     "execution_count": 39,
     "metadata": {},
     "output_type": "execute_result"
    }
   ],
   "source": [
    "mygate.is_compatible_with(gates['DH5alpha':'pAN':'Beti_e1'])"
   ]
  },
  {
   "cell_type": "code",
   "execution_count": 40,
   "metadata": {},
   "outputs": [
    {
     "data": {
      "text/plain": [
       "True"
      ]
     },
     "execution_count": 40,
     "metadata": {},
     "output_type": "execute_result"
    }
   ],
   "source": [
    "gates['DH5alpha':'pAN':'Beti_e1'].is_compatible_with(mygate)"
   ]
  },
  {
   "cell_type": "markdown",
   "metadata": {},
   "source": [
    "The margins for thresholds can also be accessed"
   ]
  },
  {
   "cell_type": "code",
   "execution_count": 41,
   "metadata": {},
   "outputs": [
    {
     "data": {
      "text/plain": [
       "0.8586791513334816"
      ]
     },
     "execution_count": 41,
     "metadata": {},
     "output_type": "execute_result"
    }
   ],
   "source": [
    "mygate.il"
   ]
  },
  {
   "cell_type": "code",
   "execution_count": 42,
   "metadata": {},
   "outputs": [
    {
     "data": {
      "text/plain": [
       "2.3733119754750422"
      ]
     },
     "execution_count": 42,
     "metadata": {},
     "output_type": "execute_result"
    }
   ],
   "source": [
    "mygate.ol"
   ]
  },
  {
   "cell_type": "code",
   "execution_count": 43,
   "metadata": {},
   "outputs": [
    {
     "data": {
      "text/plain": [
       "1.3175528052851277"
      ]
     },
     "execution_count": 43,
     "metadata": {},
     "output_type": "execute_result"
    }
   ],
   "source": [
    "mygate.ih"
   ]
  },
  {
   "cell_type": "code",
   "execution_count": 38,
   "metadata": {},
   "outputs": [
    {
     "data": {
      "text/plain": [
       "4.012741190111957"
      ]
     },
     "execution_count": 38,
     "metadata": {},
     "output_type": "execute_result"
    }
   ],
   "source": [
    "mygate.oh"
   ]
  }
 ],
 "metadata": {
  "kernelspec": {
   "display_name": "Python 3",
   "language": "python",
   "name": "python3"
  },
  "language_info": {
   "codemirror_mode": {
    "name": "ipython",
    "version": 3
   },
   "file_extension": ".py",
   "mimetype": "text/x-python",
   "name": "python",
   "nbconvert_exporter": "python",
   "pygments_lexer": "ipython3",
   "version": "3.7.3"
  }
 },
 "nbformat": 4,
 "nbformat_minor": 2
}

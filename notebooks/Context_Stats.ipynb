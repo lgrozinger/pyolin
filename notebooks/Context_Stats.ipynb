{
 "cells": [
  {
   "cell_type": "code",
   "execution_count": 1,
   "metadata": {},
   "outputs": [],
   "source": [
    "import os\n",
    "import sys\n",
    "\n",
    "pkg_path = os.path.abspath('..')\n",
    "sys.path.insert(0, pkg_path)\n",
    "\n",
    "from pyolin.dataframe import GateData\n",
    "from pyolin.analysis import similarity_heatmap\n",
    "from pyolin.analysis import score_heatmap\n",
    "from pyolin.analysis import compatibility_heatmap\n",
    "from pyolin.analysis import filter_valid\n",
    "from pyolin.analysis import score_table\n",
    "from pyolin.analysis import similarity_table\n",
    "from pyolin.analysis import compatibility_table\n",
    "from pyolin.analysis import all_paths\n",
    "\n",
    "from pyolin.gate import Gate\n",
    "\n",
    "import matplotlib.pyplot as plt\n",
    "plt.ioff()\n",
    "\n",
    "import pandas\n",
    "raw = pandas.read_csv('../cyto2func/standardised_cheeky.csv').rename(columns={'rrpu': 'decomp_flor'}).rename(columns={'newstandard': 'rrpu'})\n",
    "data = GateData(raw)"
   ]
  },
  {
   "cell_type": "code",
   "execution_count": 2,
   "metadata": {},
   "outputs": [
    {
     "name": "stdout",
     "output_type": "stream",
     "text": [
      "There are 7 contexts in this data.\n"
     ]
    }
   ],
   "source": [
    "print(f\"There are {len(data.contexts)} contexts in this data.\")\n",
    "contexts = data.contexts"
   ]
  },
  {
   "cell_type": "code",
   "execution_count": 3,
   "metadata": {},
   "outputs": [
    {
     "name": "stderr",
     "output_type": "stream",
     "text": [
      "/home/lewis/my/sauce/pyolin/pyolin/gate.py:64: RuntimeWarning: invalid value encountered in double_scalars\n",
      "  return (k**n * (ymax - t * ymin) / (t * ymin - ymin))**(1 / n)\n",
      "/home/lewis/my/sauce/pyolin/pyolin/gate.py:51: RuntimeWarning: invalid value encountered in double_scalars\n",
      "  return ((k**n * ymax * (t - 1)) / (ymax - t * ymin))**(1 / n)\n",
      "/home/lewis/my/sauce/pyolin/pyolin/gate.py:64: RuntimeWarning: invalid value encountered in double_scalars\n",
      "  return (k**n * (ymax - t * ymin) / (t * ymin - ymin))**(1 / n)\n",
      "/home/lewis/my/sauce/pyolin/pyolin/gate.py:51: RuntimeWarning: invalid value encountered in double_scalars\n",
      "  return ((k**n * ymax * (t - 1)) / (ymax - t * ymin))**(1 / n)\n",
      "/home/lewis/my/sauce/pyolin/pyolin/gate.py:64: RuntimeWarning: invalid value encountered in double_scalars\n",
      "  return (k**n * (ymax - t * ymin) / (t * ymin - ymin))**(1 / n)\n",
      "/home/lewis/my/sauce/pyolin/pyolin/gate.py:51: RuntimeWarning: invalid value encountered in double_scalars\n",
      "  return ((k**n * ymax * (t - 1)) / (ymax - t * ymin))**(1 / n)\n",
      "/home/lewis/my/sauce/pyolin/pyolin/gate.py:64: RuntimeWarning: invalid value encountered in double_scalars\n",
      "  return (k**n * (ymax - t * ymin) / (t * ymin - ymin))**(1 / n)\n",
      "/home/lewis/my/sauce/pyolin/pyolin/gate.py:51: RuntimeWarning: invalid value encountered in double_scalars\n",
      "  return ((k**n * ymax * (t - 1)) / (ymax - t * ymin))**(1 / n)\n",
      "/home/lewis/my/sauce/pyolin/pyolin/gate.py:64: RuntimeWarning: invalid value encountered in double_scalars\n",
      "  return (k**n * (ymax - t * ymin) / (t * ymin - ymin))**(1 / n)\n",
      "/home/lewis/my/sauce/pyolin/pyolin/gate.py:51: RuntimeWarning: invalid value encountered in double_scalars\n",
      "  return ((k**n * ymax * (t - 1)) / (ymax - t * ymin))**(1 / n)\n",
      "/home/lewis/my/sauce/pyolin/pyolin/gate.py:64: RuntimeWarning: invalid value encountered in double_scalars\n",
      "  return (k**n * (ymax - t * ymin) / (t * ymin - ymin))**(1 / n)\n",
      "/home/lewis/my/sauce/pyolin/pyolin/gate.py:51: RuntimeWarning: invalid value encountered in double_scalars\n",
      "  return ((k**n * ymax * (t - 1)) / (ymax - t * ymin))**(1 / n)\n",
      "/home/lewis/my/sauce/pyolin/pyolin/gate.py:64: RuntimeWarning: invalid value encountered in double_scalars\n",
      "  return (k**n * (ymax - t * ymin) / (t * ymin - ymin))**(1 / n)\n",
      "/home/lewis/my/sauce/pyolin/pyolin/gate.py:51: RuntimeWarning: invalid value encountered in double_scalars\n",
      "  return ((k**n * ymax * (t - 1)) / (ymax - t * ymin))**(1 / n)\n",
      "/home/lewis/my/sauce/pyolin/pyolin/gate.py:64: RuntimeWarning: invalid value encountered in double_scalars\n",
      "  return (k**n * (ymax - t * ymin) / (t * ymin - ymin))**(1 / n)\n",
      "/home/lewis/my/sauce/pyolin/pyolin/gate.py:51: RuntimeWarning: invalid value encountered in double_scalars\n",
      "  return ((k**n * ymax * (t - 1)) / (ymax - t * ymin))**(1 / n)\n",
      "/home/lewis/my/sauce/pyolin/pyolin/gate.py:64: RuntimeWarning: invalid value encountered in double_scalars\n",
      "  return (k**n * (ymax - t * ymin) / (t * ymin - ymin))**(1 / n)\n",
      "/home/lewis/my/sauce/pyolin/pyolin/gate.py:51: RuntimeWarning: invalid value encountered in double_scalars\n",
      "  return ((k**n * ymax * (t - 1)) / (ymax - t * ymin))**(1 / n)\n",
      "/home/lewis/my/sauce/pyolin/pyolin/gate.py:64: RuntimeWarning: invalid value encountered in double_scalars\n",
      "  return (k**n * (ymax - t * ymin) / (t * ymin - ymin))**(1 / n)\n",
      "/home/lewis/my/sauce/pyolin/pyolin/gate.py:51: RuntimeWarning: invalid value encountered in double_scalars\n",
      "  return ((k**n * ymax * (t - 1)) / (ymax - t * ymin))**(1 / n)\n"
     ]
    }
   ],
   "source": [
    "from pyolin.analysis import analyse\n",
    "\n",
    "for context in contexts:\n",
    "    label = f\"{context[0]}_{context[1]}\"\n",
    "    gates = data[context[0]:context[1]:]\n",
    "    analyse(gates, label)\n",
    "    \n",
    "for strain in data.strains:\n",
    "    analyse(data[strain::], f\"in_{strain}_only\")\n",
    "    \n",
    "analyse(data[::], 'all_contexts')"
   ]
  }
 ],
 "metadata": {
  "kernelspec": {
   "display_name": "Python 3",
   "language": "python",
   "name": "python3"
  },
  "language_info": {
   "codemirror_mode": {
    "name": "ipython",
    "version": 3
   },
   "file_extension": ".py",
   "mimetype": "text/x-python",
   "name": "python",
   "nbconvert_exporter": "python",
   "pygments_lexer": "ipython3",
   "version": "3.7.3"
  }
 },
 "nbformat": 4,
 "nbformat_minor": 2
}

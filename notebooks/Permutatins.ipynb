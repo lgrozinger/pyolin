{
 "cells": [
  {
   "cell_type": "code",
   "execution_count": 17,
   "metadata": {},
   "outputs": [
    {
     "name": "stdout",
     "output_type": "stream",
     "text": [
      "/home/campus.ncl.ac.uk/b8051106/my/src/python/pyolin/notebooks\n",
      "/home/campus.ncl.ac.uk/b8051106/my/src/python/pyolin\n"
     ]
    }
   ],
   "source": [
    "import os\n",
    "import sys\n",
    "import math\n",
    "from itertools import permutations\n",
    "print(os.path.abspath(''))\n",
    "\n",
    "pkg_path = os.path.abspath('..')\n",
    "print(pkg_path)\n",
    "sys.path.insert(0, pkg_path)\n",
    "\n",
    "import pyolin"
   ]
  },
  {
   "cell_type": "code",
   "execution_count": 18,
   "metadata": {},
   "outputs": [],
   "source": [
    "from pyolin.ucf import UCF\n",
    "\n",
    "data = UCF(\"../ucf/Eco1C1G1T1.UCF.json\");\n",
    "\n",
    "# the gates\n",
    "from pyolin.gate import Gate\n",
    "\n",
    "gates = [Gate.from_csv(\"../gates2.csv\", name) for name in data.names]\n",
    "fs = [gate.hill_function for gate in gates]"
   ]
  },
  {
   "cell_type": "code",
   "execution_count": 19,
   "metadata": {},
   "outputs": [],
   "source": [
    "def leftchild(i, tree):\n",
    "    return tree[i * 2 + 1]\n",
    "\n",
    "def rightchild(i, tree):\n",
    "    return tree[i * 2 + 2]\n",
    "\n",
    "def parent(i, tree):\n",
    "    if i == 0:\n",
    "        return None\n",
    "    else:\n",
    "        return tree[(i - 1) // 2]"
   ]
  },
  {
   "cell_type": "code",
   "execution_count": 57,
   "metadata": {},
   "outputs": [],
   "source": [
    "def build_tree(tree, permutation):\n",
    "    q = list(permutation)\n",
    "    while q:\n",
    "        next_layer_size = 2**(math.ceil(math.log(len(tree) + 1, 2)))\n",
    "        next_layer = [None] * next_layer_size\n",
    "        for i in range(next_layer_size):\n",
    "            if len(tree) == 0 or parent(len(tree) + i, tree) is not None:\n",
    "                next_layer[i] = q.pop()\n",
    "        \n",
    "        if all(map(lambda x: x is None, next_layer)):\n",
    "            return tree\n",
    "        else:\n",
    "            tree.extend(next_layer)\n",
    "        \n",
    "    return tree"
   ]
  },
  {
   "cell_type": "code",
   "execution_count": 58,
   "metadata": {},
   "outputs": [
    {
     "data": {
      "text/plain": [
       "[1, 2, 3, 4, 5, 6, None]"
      ]
     },
     "execution_count": 58,
     "metadata": {},
     "output_type": "execute_result"
    }
   ],
   "source": [
    "build_tree([], [None, 6, 5, 4, 3, 2, 1])"
   ]
  },
  {
   "cell_type": "code",
   "execution_count": 59,
   "metadata": {},
   "outputs": [],
   "source": [
    "def generate_trees(fs):\n",
    "    # pad fs\n",
    "    next_fill_size = 2**(math.ceil(math.log(len(fs), 2)))\n",
    "    fs.extend([None] * (next_fill_size - len(fs)))\n",
    "    for permutation in permutations(fs):\n",
    "        yield permutation"
   ]
  },
  {
   "cell_type": "code",
   "execution_count": 100,
   "metadata": {},
   "outputs": [
    {
     "data": {
      "text/plain": [
       "[<function pyolin.utils.hill_lambda.<locals>.<lambda>(x)>]"
      ]
     },
     "execution_count": 100,
     "metadata": {},
     "output_type": "execute_result"
    }
   ],
   "source": [
    "tree = generate_trees(fs)\n",
    "first_tree = []\n",
    "while not first_tree:\n",
    "    first_tree = build_tree([], list(next(tree)))\n",
    "    \n",
    "first_tree"
   ]
  },
  {
   "cell_type": "code",
   "execution_count": null,
   "metadata": {},
   "outputs": [],
   "source": []
  }
 ],
 "metadata": {
  "kernelspec": {
   "display_name": "Python 3",
   "language": "python",
   "name": "python3"
  },
  "language_info": {
   "codemirror_mode": {
    "name": "ipython",
    "version": 3
   },
   "file_extension": ".py",
   "mimetype": "text/x-python",
   "name": "python",
   "nbconvert_exporter": "python",
   "pygments_lexer": "ipython3",
   "version": "3.7.3"
  }
 },
 "nbformat": 4,
 "nbformat_minor": 2
}
